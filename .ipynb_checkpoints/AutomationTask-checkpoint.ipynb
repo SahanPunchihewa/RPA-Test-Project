{
 "cells": [
  {
   "cell_type": "code",
   "execution_count": 22,
   "id": "f098e88f",
   "metadata": {},
   "outputs": [],
   "source": [
    "import time\n",
    "import pandas as pd\n",
    "from selenium import webdriver\n",
    "from selenium.webdriver.common.by import By"
   ]
  },
  {
   "cell_type": "code",
   "execution_count": 23,
   "id": "254c0a55",
   "metadata": {},
   "outputs": [],
   "source": [
    "# Function to calculate average price by location\n",
    "def calculate_average_price_by_location(data):\n",
    "    average_prices = data.groupby('Location')['Price'].mean()\n",
    "    return average_prices"
   ]
  },
  {
   "cell_type": "code",
   "execution_count": 24,
   "id": "4d050a75",
   "metadata": {},
   "outputs": [],
   "source": [
    "# Setup Selenium WebDriver \n",
    "driver = webdriver.Chrome() "
   ]
  },
  {
   "cell_type": "code",
   "execution_count": 25,
   "id": "0ab60452",
   "metadata": {},
   "outputs": [],
   "source": [
    "# Navigate to ikman.lk\n",
    "driver.get(\"https://ikman.lk/\")"
   ]
  },
  {
   "cell_type": "code",
   "execution_count": 26,
   "id": "e19ae216",
   "metadata": {},
   "outputs": [
    {
     "ename": "NoSuchElementException",
     "evalue": "Message: no such element: Unable to locate element: {\"method\":\"css selector\",\"selector\":\"[id=\"CT-100\"]\"}\n  (Session info: chrome=122.0.6261.95); For documentation on this error, please visit: https://www.selenium.dev/documentation/webdriver/troubleshooting/errors#no-such-element-exception\nStacktrace:\n\tGetHandleVerifier [0x00007FF6D757AD22+56930]\n\t(No symbol) [0x00007FF6D74EF622]\n\t(No symbol) [0x00007FF6D73A42E5]\n\t(No symbol) [0x00007FF6D73E98ED]\n\t(No symbol) [0x00007FF6D73E9A2C]\n\t(No symbol) [0x00007FF6D742A967]\n\t(No symbol) [0x00007FF6D740BCDF]\n\t(No symbol) [0x00007FF6D74281E2]\n\t(No symbol) [0x00007FF6D740BA43]\n\t(No symbol) [0x00007FF6D73DD438]\n\t(No symbol) [0x00007FF6D73DE4D1]\n\tGetHandleVerifier [0x00007FF6D78F6AAD+3709933]\n\tGetHandleVerifier [0x00007FF6D794FFED+4075821]\n\tGetHandleVerifier [0x00007FF6D794817F+4043455]\n\tGetHandleVerifier [0x00007FF6D7619756+706710]\n\t(No symbol) [0x00007FF6D74FB8FF]\n\t(No symbol) [0x00007FF6D74F6AE4]\n\t(No symbol) [0x00007FF6D74F6C3C]\n\t(No symbol) [0x00007FF6D74E68F4]\n\tBaseThreadInitThunk [0x00007FFF7DA7257D+29]\n\tRtlUserThreadStart [0x00007FFF7F26AA58+40]\n",
     "output_type": "error",
     "traceback": [
      "\u001b[1;31m---------------------------------------------------------------------------\u001b[0m",
      "\u001b[1;31mNoSuchElementException\u001b[0m                    Traceback (most recent call last)",
      "Cell \u001b[1;32mIn[26], line 5\u001b[0m\n\u001b[0;32m      1\u001b[0m \u001b[38;5;66;03m# # Wait for the page to load\u001b[39;00m\n\u001b[0;32m      2\u001b[0m \u001b[38;5;66;03m# time.sleep(2)\u001b[39;00m\n\u001b[0;32m      3\u001b[0m \n\u001b[0;32m      4\u001b[0m \u001b[38;5;66;03m# Search for motorcycle model \"CT-100\"\u001b[39;00m\n\u001b[1;32m----> 5\u001b[0m search_box \u001b[38;5;241m=\u001b[39m driver\u001b[38;5;241m.\u001b[39mfind_element(By\u001b[38;5;241m.\u001b[39mID, \u001b[38;5;124m\"\u001b[39m\u001b[38;5;124mCT-100\u001b[39m\u001b[38;5;124m\"\u001b[39m)\n\u001b[0;32m      6\u001b[0m search_box\u001b[38;5;241m.\u001b[39msend_keys(\u001b[38;5;124m\"\u001b[39m\u001b[38;5;124mCT-100\u001b[39m\u001b[38;5;124m\"\u001b[39m)\n\u001b[0;32m      7\u001b[0m search_button \u001b[38;5;241m=\u001b[39m driver\u001b[38;5;241m.\u001b[39mfind_element(By\u001b[38;5;241m.\u001b[39mCLASS_NAME, \u001b[38;5;124m\"\u001b[39m\u001b[38;5;124msearch-box__button\u001b[39m\u001b[38;5;124m\"\u001b[39m)\n",
      "File \u001b[1;32m~\\anaconda3\\Lib\\site-packages\\selenium\\webdriver\\remote\\webdriver.py:741\u001b[0m, in \u001b[0;36mWebDriver.find_element\u001b[1;34m(self, by, value)\u001b[0m\n\u001b[0;32m    738\u001b[0m     by \u001b[38;5;241m=\u001b[39m By\u001b[38;5;241m.\u001b[39mCSS_SELECTOR\n\u001b[0;32m    739\u001b[0m     value \u001b[38;5;241m=\u001b[39m \u001b[38;5;124mf\u001b[39m\u001b[38;5;124m'\u001b[39m\u001b[38;5;124m[name=\u001b[39m\u001b[38;5;124m\"\u001b[39m\u001b[38;5;132;01m{\u001b[39;00mvalue\u001b[38;5;132;01m}\u001b[39;00m\u001b[38;5;124m\"\u001b[39m\u001b[38;5;124m]\u001b[39m\u001b[38;5;124m'\u001b[39m\n\u001b[1;32m--> 741\u001b[0m \u001b[38;5;28;01mreturn\u001b[39;00m \u001b[38;5;28mself\u001b[39m\u001b[38;5;241m.\u001b[39mexecute(Command\u001b[38;5;241m.\u001b[39mFIND_ELEMENT, {\u001b[38;5;124m\"\u001b[39m\u001b[38;5;124musing\u001b[39m\u001b[38;5;124m\"\u001b[39m: by, \u001b[38;5;124m\"\u001b[39m\u001b[38;5;124mvalue\u001b[39m\u001b[38;5;124m\"\u001b[39m: value})[\u001b[38;5;124m\"\u001b[39m\u001b[38;5;124mvalue\u001b[39m\u001b[38;5;124m\"\u001b[39m]\n",
      "File \u001b[1;32m~\\anaconda3\\Lib\\site-packages\\selenium\\webdriver\\remote\\webdriver.py:347\u001b[0m, in \u001b[0;36mWebDriver.execute\u001b[1;34m(self, driver_command, params)\u001b[0m\n\u001b[0;32m    345\u001b[0m response \u001b[38;5;241m=\u001b[39m \u001b[38;5;28mself\u001b[39m\u001b[38;5;241m.\u001b[39mcommand_executor\u001b[38;5;241m.\u001b[39mexecute(driver_command, params)\n\u001b[0;32m    346\u001b[0m \u001b[38;5;28;01mif\u001b[39;00m response:\n\u001b[1;32m--> 347\u001b[0m     \u001b[38;5;28mself\u001b[39m\u001b[38;5;241m.\u001b[39merror_handler\u001b[38;5;241m.\u001b[39mcheck_response(response)\n\u001b[0;32m    348\u001b[0m     response[\u001b[38;5;124m\"\u001b[39m\u001b[38;5;124mvalue\u001b[39m\u001b[38;5;124m\"\u001b[39m] \u001b[38;5;241m=\u001b[39m \u001b[38;5;28mself\u001b[39m\u001b[38;5;241m.\u001b[39m_unwrap_value(response\u001b[38;5;241m.\u001b[39mget(\u001b[38;5;124m\"\u001b[39m\u001b[38;5;124mvalue\u001b[39m\u001b[38;5;124m\"\u001b[39m, \u001b[38;5;28;01mNone\u001b[39;00m))\n\u001b[0;32m    349\u001b[0m     \u001b[38;5;28;01mreturn\u001b[39;00m response\n",
      "File \u001b[1;32m~\\anaconda3\\Lib\\site-packages\\selenium\\webdriver\\remote\\errorhandler.py:229\u001b[0m, in \u001b[0;36mErrorHandler.check_response\u001b[1;34m(self, response)\u001b[0m\n\u001b[0;32m    227\u001b[0m         alert_text \u001b[38;5;241m=\u001b[39m value[\u001b[38;5;124m\"\u001b[39m\u001b[38;5;124malert\u001b[39m\u001b[38;5;124m\"\u001b[39m]\u001b[38;5;241m.\u001b[39mget(\u001b[38;5;124m\"\u001b[39m\u001b[38;5;124mtext\u001b[39m\u001b[38;5;124m\"\u001b[39m)\n\u001b[0;32m    228\u001b[0m     \u001b[38;5;28;01mraise\u001b[39;00m exception_class(message, screen, stacktrace, alert_text)  \u001b[38;5;66;03m# type: ignore[call-arg]  # mypy is not smart enough here\u001b[39;00m\n\u001b[1;32m--> 229\u001b[0m \u001b[38;5;28;01mraise\u001b[39;00m exception_class(message, screen, stacktrace)\n",
      "\u001b[1;31mNoSuchElementException\u001b[0m: Message: no such element: Unable to locate element: {\"method\":\"css selector\",\"selector\":\"[id=\"CT-100\"]\"}\n  (Session info: chrome=122.0.6261.95); For documentation on this error, please visit: https://www.selenium.dev/documentation/webdriver/troubleshooting/errors#no-such-element-exception\nStacktrace:\n\tGetHandleVerifier [0x00007FF6D757AD22+56930]\n\t(No symbol) [0x00007FF6D74EF622]\n\t(No symbol) [0x00007FF6D73A42E5]\n\t(No symbol) [0x00007FF6D73E98ED]\n\t(No symbol) [0x00007FF6D73E9A2C]\n\t(No symbol) [0x00007FF6D742A967]\n\t(No symbol) [0x00007FF6D740BCDF]\n\t(No symbol) [0x00007FF6D74281E2]\n\t(No symbol) [0x00007FF6D740BA43]\n\t(No symbol) [0x00007FF6D73DD438]\n\t(No symbol) [0x00007FF6D73DE4D1]\n\tGetHandleVerifier [0x00007FF6D78F6AAD+3709933]\n\tGetHandleVerifier [0x00007FF6D794FFED+4075821]\n\tGetHandleVerifier [0x00007FF6D794817F+4043455]\n\tGetHandleVerifier [0x00007FF6D7619756+706710]\n\t(No symbol) [0x00007FF6D74FB8FF]\n\t(No symbol) [0x00007FF6D74F6AE4]\n\t(No symbol) [0x00007FF6D74F6C3C]\n\t(No symbol) [0x00007FF6D74E68F4]\n\tBaseThreadInitThunk [0x00007FFF7DA7257D+29]\n\tRtlUserThreadStart [0x00007FFF7F26AA58+40]\n"
     ]
    }
   ],
   "source": [
    "# # Wait for the page to load\n",
    "# time.sleep(2)\n",
    "\n",
    "# Search for motorcycle model \"CT-100\"\n",
    "search_box = driver.find_element(By.ID, \"CT-100\")\n",
    "search_box.send_keys(\"CT-100\")\n",
    "search_button = driver.find_element(By.CLASS_NAME, \"search-box__button\")\n",
    "search_button.click()"
   ]
  },
  {
   "cell_type": "code",
   "execution_count": 27,
   "id": "b14e30cd",
   "metadata": {},
   "outputs": [],
   "source": [
    "\n",
    "# Initialize lists to store data\n",
    "prices = []\n",
    "locations = []\n",
    "years = []\n",
    "mileages = []\n"
   ]
  },
  {
   "cell_type": "code",
   "execution_count": 28,
   "id": "b5065500",
   "metadata": {},
   "outputs": [],
   "source": [
    "# Extract information from the first 50 results\n",
    "for result in driver.find_elements(By.CLASS_NAME, \"result-item\")[:50]:\n",
    "    price = result.find_element(By.CLASS_NAME, \"price\").text\n",
    "    location = result.find_element(By.CLASS_NAME, \"location\").text\n",
    "    year = result.find_element(By.CLASS_NAME, \"date\").text\n",
    "    mileage_element = result.find_element(By.CLASS_NAME, \"mileage\")\n",
    "    mileage = mileage_element.text if mileage_element else \"\"\n",
    "    \n",
    "    # Append extracted data to lists\n",
    "    prices.append(price)\n",
    "    locations.append(location)\n",
    "    years.append(year)\n",
    "    mileages.append(mileage)"
   ]
  },
  {
   "cell_type": "code",
   "execution_count": 29,
   "id": "aeb47511",
   "metadata": {},
   "outputs": [],
   "source": [
    "# Create DataFrame from extracted data\n",
    "data = pd.DataFrame({\n",
    "    'Location': locations,\n",
    "    'Price': prices,\n",
    "    'Year of Manufacture': years,\n",
    "    'Mileage': mileages\n",
    "})"
   ]
  },
  {
   "cell_type": "code",
   "execution_count": 30,
   "id": "23590546",
   "metadata": {},
   "outputs": [],
   "source": [
    "# Save data as CSV\n",
    "data.to_csv('ikman_ct100_listings.csv', index=False)"
   ]
  },
  {
   "cell_type": "code",
   "execution_count": 31,
   "id": "6c780267",
   "metadata": {},
   "outputs": [],
   "source": [
    "# Calculate average price by location\n",
    "average_prices = calculate_average_price_by_location(data)"
   ]
  },
  {
   "cell_type": "code",
   "execution_count": 32,
   "id": "7003f3da",
   "metadata": {},
   "outputs": [],
   "source": [
    "# Close the WebDriver\n",
    "driver.quit()"
   ]
  },
  {
   "cell_type": "code",
   "execution_count": null,
   "id": "443eddee",
   "metadata": {},
   "outputs": [],
   "source": []
  }
 ],
 "metadata": {
  "kernelspec": {
   "display_name": "Python 3 (ipykernel)",
   "language": "python",
   "name": "python3"
  },
  "language_info": {
   "codemirror_mode": {
    "name": "ipython",
    "version": 3
   },
   "file_extension": ".py",
   "mimetype": "text/x-python",
   "name": "python",
   "nbconvert_exporter": "python",
   "pygments_lexer": "ipython3",
   "version": "3.11.5"
  }
 },
 "nbformat": 4,
 "nbformat_minor": 5
}
