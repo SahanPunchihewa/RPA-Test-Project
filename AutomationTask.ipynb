{
 "cells": [
  {
   "cell_type": "code",
   "execution_count": 99,
   "id": "af28cbe0",
   "metadata": {},
   "outputs": [],
   "source": [
    "import pandas as pd\n",
    "from selenium import webdriver\n",
    "from selenium.webdriver.common.by import By\n",
    "from selenium.webdriver.support.ui import WebDriverWait\n",
    "from selenium.webdriver.support import expected_conditions as EC\n",
    "from selenium.common.exceptions import TimeoutException"
   ]
  },
  {
   "cell_type": "code",
   "execution_count": 100,
   "id": "ba68331c",
   "metadata": {},
   "outputs": [],
   "source": [
    "# Function to calculate average price by location\n",
    "def calculate_average_price_by_location(data):\n",
    "    average_prices = data.groupby('Location')['Price'].mean().reset_index()\n",
    "    return average_prices"
   ]
  },
  {
   "cell_type": "code",
   "execution_count": 101,
   "id": "f0bea058",
   "metadata": {},
   "outputs": [],
   "source": [
    "# Setup Selenium WebDriver \n",
    "driver = webdriver.Chrome() "
   ]
  },
  {
   "cell_type": "code",
   "execution_count": 102,
   "id": "b8c6931a",
   "metadata": {},
   "outputs": [],
   "source": [
    "# Navigate to ikman.lk\n",
    "driver.get(\"https://ikman.lk/\")"
   ]
  },
  {
   "cell_type": "code",
   "execution_count": null,
   "id": "369cf4ff",
   "metadata": {},
   "outputs": [],
   "source": [
    "try:\n",
    "    # Wait for the search box and search button to be located\n",
    "    search_box = WebDriverWait(driver, 60).until(\n",
    "        EC.presence_of_element_located((By.CSS_SELECTOR, 'input[name=\"q\"]'))\n",
    "    )\n",
    "    search_button = WebDriverWait(driver, 60).until(\n",
    "        EC.visibility_of_element_located((By.CLASS_NAME, \"search-box__button\"))\n",
    "    )\n",
    "\n",
    "    # Search for motorcycle model \"CT-100\"\n",
    "    search_box.send_keys(\"CT-100\")\n",
    "    search_button.click()\n",
    "\n",
    "    # Initialize lists to store data\n",
    "    prices = []\n",
    "    locations = []\n",
    "    years = []\n",
    "    mileages = []\n",
    "\n",
    "    # Extract information from the first 50 results\n",
    "    for result in driver.find_elements(By.CLASS_NAME, \"result-item\")[:50]:\n",
    "        price = result.find_element(By.CLASS_NAME, \"price\").text\n",
    "        location = result.find_element(By.CLASS_NAME, \"location\").text\n",
    "        year = result.find_element(By.CLASS_NAME, \"date\").text\n",
    "        mileage_element = result.find_element(By.CLASS_NAME, \"mileage\")\n",
    "        mileage = mileage_element.text if mileage_element else \"\"\n",
    "        \n",
    "        # Append extracted data to lists\n",
    "        prices.append(price)\n",
    "        locations.append(location)\n",
    "        years.append(year)\n",
    "        mileages.append(mileage)\n",
    "\n",
    "    # Create DataFrame from extracted data\n",
    "    data = pd.DataFrame({\n",
    "        'Location': locations,\n",
    "        'Price': prices,\n",
    "        'Year of Manufacture': years,\n",
    "        'Mileage': mileages\n",
    "    })\n",
    "\n",
    "    # Save data as CSV\n",
    "    data.to_csv('ikman_ct100_listings.csv', index=False)\n",
    "\n",
    "    # Calculate average price by location\n",
    "    average_prices = calculate_average_price_by_location(data)\n",
    "\n",
    "    # Display average prices\n",
    "    print(\"Average Vehicle Price by Location:\\n\", average_prices)\n",
    "\n",
    "except TimeoutException as e:\n",
    "    print(\"TimeoutException occurred: Unable to locate elements within the specified timeout period.\")\n",
    "\n",
    "finally:\n",
    "    # Close the WebDriver\n",
    "    driver.quit()"
   ]
  },
  {
   "cell_type": "code",
   "execution_count": null,
   "id": "138a9079",
   "metadata": {},
   "outputs": [],
   "source": []
  },
  {
   "cell_type": "code",
   "execution_count": null,
   "id": "00577b82",
   "metadata": {},
   "outputs": [],
   "source": []
  }
 ],
 "metadata": {
  "kernelspec": {
   "display_name": "Python 3 (ipykernel)",
   "language": "python",
   "name": "python3"
  },
  "language_info": {
   "codemirror_mode": {
    "name": "ipython",
    "version": 3
   },
   "file_extension": ".py",
   "mimetype": "text/x-python",
   "name": "python",
   "nbconvert_exporter": "python",
   "pygments_lexer": "ipython3",
   "version": "3.11.5"
  }
 },
 "nbformat": 4,
 "nbformat_minor": 5
}
